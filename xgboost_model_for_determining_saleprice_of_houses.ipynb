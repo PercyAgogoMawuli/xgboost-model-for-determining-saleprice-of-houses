{
  "metadata": {
    "kernelspec": {
      "display_name": "Python 3",
      "language": "python",
      "name": "python3"
    },
    "language_info": {
      "name": "python",
      "version": "3.10.12",
      "mimetype": "text/x-python",
      "codemirror_mode": {
        "name": "ipython",
        "version": 3
      },
      "pygments_lexer": "ipython3",
      "nbconvert_exporter": "python",
      "file_extension": ".py"
    },
    "kaggle": {
      "accelerator": "none",
      "dataSources": [
        {
          "sourceId": 10211,
          "databundleVersionId": 111096,
          "sourceType": "competition"
        }
      ],
      "isInternetEnabled": false,
      "language": "python",
      "sourceType": "notebook",
      "isGpuEnabled": false
    },
    "colab": {
      "provenance": []
    }
  },
  "nbformat_minor": 0,
  "nbformat": 4,
  "cells": [
    {
      "cell_type": "code",
      "source": [
        "import pandas as pd\n",
        "from sklearn.model_selection import train_test_split\n",
        "\n",
        "# Read the data\n",
        "X = pd.read_csv('../input/train.csv', index_col='Id')\n",
        "X_test_full = pd.read_csv('../input/test.csv', index_col='Id')\n",
        "\n",
        "# Remove rows with missing target, separate target from predictors\n",
        "X.dropna(axis=0, subset=['SalePrice'], inplace=True)\n",
        "y = X.SalePrice\n",
        "X.drop(['SalePrice'], axis=1, inplace=True)\n",
        "\n",
        "# Break off validation set from training data\n",
        "X_train_full, X_valid_full, y_train, y_valid = train_test_split(X, y, train_size=0.8, test_size=0.2,\n",
        "                                                                random_state=0)\n",
        "\n",
        "# \"Cardinality\" means the number of unique values in a column\n",
        "# Select categorical columns with relatively low cardinality (convenient but arbitrary)\n",
        "low_cardinality_cols = [cname for cname in X_train_full.columns if X_train_full[cname].nunique() < 10 and\n",
        "                        X_train_full[cname].dtype == \"object\"]\n",
        "\n",
        "# Select numeric columns\n",
        "numeric_cols = [cname for cname in X_train_full.columns if X_train_full[cname].dtype in ['int64', 'float64']]\n",
        "\n",
        "# Keep selected columns only\n",
        "my_cols = low_cardinality_cols + numeric_cols\n",
        "X_train = X_train_full[my_cols].copy()\n",
        "X_valid = X_valid_full[my_cols].copy()\n",
        "X_test = X_test_full[my_cols].copy()\n",
        "\n",
        "# One-hot encode the data (to shorten the code, we use pandas)\n",
        "X_train = pd.get_dummies(X_train)\n",
        "X_valid = pd.get_dummies(X_valid)\n",
        "X_test = pd.get_dummies(X_test)\n",
        "X_train, X_valid = X_train.align(X_valid, join='left', axis=1)\n",
        "X_train, X_test = X_train.align(X_test, join='left', axis=1)"
      ],
      "metadata": {
        "execution": {
          "iopub.status.busy": "2023-10-28T17:33:40.464659Z",
          "iopub.execute_input": "2023-10-28T17:33:40.465023Z",
          "iopub.status.idle": "2023-10-28T17:33:40.635200Z",
          "shell.execute_reply.started": "2023-10-28T17:33:40.464995Z",
          "shell.execute_reply": "2023-10-28T17:33:40.634055Z"
        },
        "trusted": true,
        "id": "7oPXjTEg88ex"
      },
      "execution_count": null,
      "outputs": []
    },
    {
      "cell_type": "code",
      "source": [
        "from xgboost import XGBRegressor\n",
        "\n",
        "my_model_1 = XGBRegressor(random_state=0)\n",
        "my_model_1.fit(X_train, y_train)\n",
        "\n"
      ],
      "metadata": {
        "execution": {
          "iopub.status.busy": "2023-10-28T17:37:42.535642Z",
          "iopub.execute_input": "2023-10-28T17:37:42.536037Z",
          "iopub.status.idle": "2023-10-28T17:37:44.213747Z",
          "shell.execute_reply.started": "2023-10-28T17:37:42.536007Z",
          "shell.execute_reply": "2023-10-28T17:37:44.212910Z"
        },
        "trusted": true,
        "id": "8tAFi70488ey"
      },
      "execution_count": null,
      "outputs": []
    },
    {
      "cell_type": "code",
      "source": [
        "from sklearn.metrics import mean_absolute_error\n",
        "\n",
        "# Get predictions\n",
        "predictions_1 = my_model_1.predict(X_valid)\n",
        "print(\"Mean Absolute Error: \" + str(mean_absolute_error(predictions_1, y_valid)))\n"
      ],
      "metadata": {
        "execution": {
          "iopub.status.busy": "2023-10-28T17:41:00.003858Z",
          "iopub.execute_input": "2023-10-28T17:41:00.004869Z",
          "iopub.status.idle": "2023-10-28T17:41:00.030583Z",
          "shell.execute_reply.started": "2023-10-28T17:41:00.004831Z",
          "shell.execute_reply": "2023-10-28T17:41:00.029851Z"
        },
        "trusted": true,
        "id": "S731-E8e88ey"
      },
      "execution_count": null,
      "outputs": []
    },
    {
      "cell_type": "code",
      "source": [
        "# Calculate MAE\n",
        "mae_1 = mean_absolute_error(predictions_1, y_valid)# Your code here\n",
        "\n",
        "# Uncomment to print MAE\n",
        "print(\"Mean Absolute Error:\" , mae_1)\n"
      ],
      "metadata": {
        "execution": {
          "iopub.status.busy": "2023-10-28T17:42:02.854696Z",
          "iopub.execute_input": "2023-10-28T17:42:02.855101Z",
          "iopub.status.idle": "2023-10-28T17:42:02.868967Z",
          "shell.execute_reply.started": "2023-10-28T17:42:02.855071Z",
          "shell.execute_reply": "2023-10-28T17:42:02.867492Z"
        },
        "trusted": true,
        "id": "mW3d_rRD88ez"
      },
      "execution_count": null,
      "outputs": []
    },
    {
      "cell_type": "code",
      "source": [
        "# Define the model\n",
        "my_model_2 = XGBRegressor(n_estimators=1000, learning_rate=0.05) # Your code here\n",
        "\n",
        "# Fit the model\n",
        "my_model_2.fit(X_train, y_train,\n",
        "             early_stopping_rounds=5,\n",
        "             eval_set=[(X_valid, y_valid)],\n",
        "             verbose=False) # Your code here\n",
        "\n",
        "# Get predictions\n",
        "predictions_2 = my_model_2.predict(X_valid) # Your code here\n",
        "\n",
        "# Calculate MAE\n",
        "mae_2 = mean_absolute_error(predictions_2, y_valid) # Your code here\n",
        "\n",
        "# Uncomment to print MAE\n",
        "print(\"Mean Absolute Error:\" , mae_2)\n"
      ],
      "metadata": {
        "execution": {
          "iopub.status.busy": "2023-10-28T17:47:11.908322Z",
          "iopub.execute_input": "2023-10-28T17:47:11.908713Z",
          "iopub.status.idle": "2023-10-28T17:47:13.892235Z",
          "shell.execute_reply.started": "2023-10-28T17:47:11.908683Z",
          "shell.execute_reply": "2023-10-28T17:47:13.891468Z"
        },
        "trusted": true,
        "id": "C7rWZoYO88ez"
      },
      "execution_count": null,
      "outputs": []
    },
    {
      "cell_type": "code",
      "source": [
        "# Define the model\n",
        "my_model_3 = XGBRegressor(n_estimators=1, learning_rate=20)\n",
        "\n",
        "# Fit the model\n",
        "my_model_3.fit(X_train, y_train,\n",
        "             early_stopping_rounds=1,\n",
        "             eval_set=[(X_valid, y_valid)],\n",
        "             verbose=False) # Your code here\n",
        "\n",
        "# Get predictions\n",
        "predictions_3 = my_model_3.predict(X_valid)\n",
        "\n",
        "# Calculate MAE\n",
        "mae_3 = mean_absolute_error(predictions_2, y_valid)\n",
        "\n",
        "# Uncomment to print MAE\n",
        "# print(\"Mean Absolute Error:\" , mae_3)"
      ],
      "metadata": {
        "id": "guxJhTYz88e0"
      },
      "execution_count": null,
      "outputs": []
    }
  ]
}